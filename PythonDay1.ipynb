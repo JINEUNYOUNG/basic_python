{
  "nbformat": 4,
  "nbformat_minor": 0,
  "metadata": {
    "colab": {
      "provenance": [],
      "collapsed_sections": []
    },
    "kernelspec": {
      "name": "python3",
      "display_name": "Python 3"
    },
    "language_info": {
      "name": "python"
    }
  },
  "cells": [
    {
      "cell_type": "code",
      "source": [
        "print(\"Hello World!!!\")"
      ],
      "metadata": {
        "colab": {
          "base_uri": "https://localhost:8080/"
        },
        "id": "0C-vcWhpfpjh",
        "outputId": "5994f3a8-e52e-40cf-b9cc-2ed8f74e9caa"
      },
      "execution_count": null,
      "outputs": [
        {
          "output_type": "stream",
          "name": "stdout",
          "text": [
            "Hello World!!!\n"
          ]
        }
      ]
    },
    {
      "cell_type": "markdown",
      "source": [
        "#파이썬이란? \n",
        "* 귀도 반 로썸이 1990년에 개발한 인터프리터 언어이다.\n",
        "* 컴퓨터언어는 인터프리터(JAVA, C, C++) 혹은 컴파일러(PYTHON, R)\n",
        "   - 인터프리터 : 한줄씩 코드를 해석해서 실행 결과를 바로 확인할 수 있음\n",
        "   - 컴파일러 : 덩어리째\n",
        "* 로고는 고대 신화에 나오는 동굴에 살던 큰 뱀을 뜻한다.   \n",
        "* 파이썬은 교육용으로 많이 사용되기도 하지만 업무용으로도 전혀 손색이 없다.\n",
        "  \n",
        "> 파이썬 언어의 특징\n",
        "   1. 문법이 쉽다.  \n",
        "   2. 빠르게 배울 수 있다.\n",
        "   3. 무료지만 강력하다\n",
        "   4. 즐거운 프로그래밍이 가능하다.\n",
        "\n",
        "> 파이썬으로 할 수 있는 것\n",
        "* 인공지능(*)\n",
        "* 빅데이터(*)\n",
        "* GUI 애플리케이션\n",
        "* C / C++ 결합\n",
        "* 웹 프로그래밍 (Flast, Django)\n",
        "* 데이터베이스\n",
        "\n",
        "> 파이썬 약점\n",
        "- 시스템과 밀접한 프로그래밍\n",
        "- 모바일 프로그래밍\n",
        "\n",
        "> IDE 개발도구\n",
        "* Colab\n",
        "* Anaconda\n",
        "* VS Code(*추천)\n",
        "* Pycharm"
      ],
      "metadata": {
        "id": "TrnBNLw0h4HS"
      }
    },
    {
      "cell_type": "markdown",
      "source": [
        "# 변수\n",
        "숫자, 문자 등을 다룰 때 컴퓨터에서는 변수 variable을 사용하게 된다."
      ],
      "metadata": {
        "id": "RbkdbIH7rtgC"
      }
    },
    {
      "cell_type": "code",
      "source": [
        "a = 1\n",
        "b = \"python\"\n",
        "b = \"java\"\n",
        "\n",
        "print(a)\n",
        "print(b)"
      ],
      "metadata": {
        "colab": {
          "base_uri": "https://localhost:8080/"
        },
        "id": "O0P55ixMrNJy",
        "outputId": "920c2c85-b7a1-40d0-81ab-0a026f88e517"
      },
      "execution_count": null,
      "outputs": [
        {
          "output_type": "stream",
          "name": "stdout",
          "text": [
            "1\n",
            "java\n"
          ]
        }
      ]
    },
    {
      "cell_type": "markdown",
      "source": [
        "# **자료형**\n",
        "자료형이란 프로그래밍에서 자료 형태로 문자, 숫자를 사용하는 것을 말한다. 프로그래밍의 핵심이자 기본이 바로 자료형이다. 자료형을 충분히 이해해야만 프로그래밍을 잘 할 수 있다.\n",
        "\n",
        "1. 숫자형\n",
        "\n",
        "숫자형 자료형은 숫자 형태(정수, 실수 등)로 이루어진 자료형이다.\n",
        "\n",
        "* 정수 : 1 , 2\n",
        "* 실수 : 2.14 , 6.234\n",
        "\n",
        "1) 정수형(Integer)\n",
        "\n",
        "\n"
      ],
      "metadata": {
        "id": "fWHS_ju8qI-D"
      }
    },
    {
      "cell_type": "code",
      "source": [
        "a = 3\n",
        "b = 5\n",
        "\n",
        "# print 없이 a+b로도 출력이 가능하지만 print구문을 사용하는 것이 정석이다.\n",
        "print(a+b) # 주석 comment 은 측면에도 달 수 있음. 컴퓨터는 읽지 않는다.\n",
        "print(a-b)\n",
        "print(a*b)\n",
        "print(a/b)"
      ],
      "metadata": {
        "colab": {
          "base_uri": "https://localhost:8080/"
        },
        "id": "u89ppDCgviC8",
        "outputId": "f5206779-b75c-4c34-b7d6-b8ead22add2b"
      },
      "execution_count": null,
      "outputs": [
        {
          "output_type": "stream",
          "name": "stdout",
          "text": [
            "8\n",
            "-2\n",
            "15\n",
            "0.6\n"
          ]
        }
      ]
    },
    {
      "cell_type": "code",
      "source": [
        "# 나머지 연산자 % 는 나눈 후 몫이 아닌 나머지를 구한다.\n",
        "# 나머지 연산자를 통해 짝수, 홀수, 배수를 알아낼 수 있다.\n",
        "a = 7\n",
        "b = 3\n",
        "print(a%b)\n",
        "print(a%2) # 어떤 수를 2로 나눈 후 나머지가 1이면 항상 홀수, 나머지가 0이면 항상 짝수\n",
        "print(8%4) # 어떤 수를 어떤 수로 나눈 나머지가 0이면 항상 그 수의 배수이다."
      ],
      "metadata": {
        "colab": {
          "base_uri": "https://localhost:8080/"
        },
        "id": "96GVvgTjxVTb",
        "outputId": "e08776c0-bf2a-4dcc-b776-5354b2e15bce"
      },
      "execution_count": null,
      "outputs": [
        {
          "output_type": "stream",
          "name": "stdout",
          "text": [
            "1\n",
            "1\n",
            "0\n"
          ]
        }
      ]
    },
    {
      "cell_type": "code",
      "source": [
        "# 몫을 알고 싶을 때는 //\n",
        "print(9//2)"
      ],
      "metadata": {
        "colab": {
          "base_uri": "https://localhost:8080/"
        },
        "id": "W8h9Awdbyugj",
        "outputId": "e22c8292-8478-487d-ded7-d96a0176c365"
      },
      "execution_count": null,
      "outputs": [
        {
          "output_type": "stream",
          "name": "stdout",
          "text": [
            "4\n"
          ]
        }
      ]
    },
    {
      "cell_type": "markdown",
      "source": [
        "# 문자열 자료형\n",
        "\n",
        "문자열은 문자, 단어, 문장 등으로 구성된 글자들의 집합이다."
      ],
      "metadata": {
        "id": "TW9kKMyQzGG6"
      }
    },
    {
      "cell_type": "code",
      "source": [
        "a = \"b\"\n",
        "b = \"hello\"\n",
        "c = \"awesome class\"\n",
        "d = \"123\" # 숫자가 아닌 문자로 인식하게 됨\n",
        "\n",
        "print(a)\n",
        "print(b)\n",
        "print(c)\n",
        "print(d)\n",
        "\n",
        "# 자바 등과 같은 언어에서는 변수를 사용할 때 형까지도 지정을 해줘야만 한다.\n",
        "# char a = \"b\"; \n",
        "# string b = \"Hello\";\n",
        "# int c = 5;"
      ],
      "metadata": {
        "colab": {
          "base_uri": "https://localhost:8080/"
        },
        "id": "5U_BL8JEzR1C",
        "outputId": "3d2a117d-0fbe-43f7-89ad-1c357beb2449"
      },
      "execution_count": null,
      "outputs": [
        {
          "output_type": "stream",
          "name": "stdout",
          "text": [
            "b\n",
            "hello\n",
            "awesome class\n",
            "123\n"
          ]
        }
      ]
    },
    {
      "cell_type": "code",
      "source": [
        "# 파이썬에서 문자열은 \"\" 큰따옴표와 ''작은따옴표를 기본적으로 동일하게 취급한다.\n",
        "\n",
        "a = \"hello\"\n",
        "b = 'hello'\n",
        "\n",
        "print(a)\n",
        "print(b)\n",
        "\n",
        "# 하지만 아래의 경우 약간 다르게 처리된다.\n",
        "\n",
        "a = 'Hello \"Austin\"'\n",
        "print(a)\n",
        "b = \"Hello 'Austin'\"\n",
        "print(b)\n",
        "\n",
        "# \"\"\"   \"\"\"  dod string 컴퓨터도 읽는 주석. 읽기만 하고 동작하진 않는다.\n",
        "# '''   '''\n",
        "\n",
        "# 백슬래시를 넣으면 기능이 무시되고 글자로만 취급된다.\n",
        "a = \"hello \\\"Austin\\\"\"\n",
        "b = 'hello \\'austin\\''\n",
        "print(a)\n",
        "print(b)"
      ],
      "metadata": {
        "colab": {
          "base_uri": "https://localhost:8080/"
        },
        "id": "hiSOHmRP1MNM",
        "outputId": "edd31c13-79be-46d2-dabd-94df95c77b21"
      },
      "execution_count": null,
      "outputs": [
        {
          "output_type": "stream",
          "name": "stdout",
          "text": [
            "hello\n",
            "hello\n",
            "Hello \"Austin\"\n",
            "Hello 'Austin'\n",
            "hello \"Austin\"\n",
            "hello 'austin'\n"
          ]
        }
      ]
    },
    {
      "cell_type": "code",
      "source": [
        "# \\ 백슬래시를 사용하는 것을 이스케이프 코드를 사용한다라고 표현한다.\n",
        "# \\'\n",
        "# \\\"\n",
        "# \\n 강제 줄바꿈\n",
        "# \\t 탭 일정간격 띄우기\n",
        "\n",
        "a = \"hello \\nworld\"\n",
        "print(a)\n",
        "\n",
        "b = \"hello\\t\\t\\tworld\"\n",
        "print(b)"
      ],
      "metadata": {
        "colab": {
          "base_uri": "https://localhost:8080/"
        },
        "id": "1TRqaUqI2C1S",
        "outputId": "5e9f30be-9405-45f1-b32c-ad877eb249a1"
      },
      "execution_count": null,
      "outputs": [
        {
          "output_type": "stream",
          "name": "stdout",
          "text": [
            "hello \n",
            "world\n",
            "hello\t\t\tworld\n"
          ]
        }
      ]
    },
    {
      "cell_type": "markdown",
      "source": [
        "> 파이썬에서 아주 중요한 자료형 4가지 (많은 자료를 다루기 위해)\n",
        "1. List(*)\n",
        "2. Tuple\n",
        "3. Dict\n",
        "4. Set\n",
        "\n",
        "1. LIST [   ] \n",
        " - mutable 수정가능하다.\n",
        " - indexing / slicing 이 가능하다.\n",
        " - 파이썬에서 가장 많이 사용된다.\n",
        "\n",
        "2. Tuple (   )\n",
        " - immutable 수정불가능하다.\n",
        " - indexing / slicing 이 가능하다.\n",
        " - 요소를 하나만 저장할 때도 쉼표를 붙인다.\n",
        "\n",
        "3. Dic {   }\n",
        " - mutable 수정가능하다.\n",
        " - indexing / slicing 이 불가능하다.\n",
        " - 키값 - value값이 쌍으로 구성된다.\n",
        "\n",
        "4. Set {   } \n",
        " - mutable 수정가능하다.\n",
        " - indexing / slicing 이 불가능하다.\n",
        " - 중복 값을 허용하지 않는다.\n",
        "\n",
        "\n",
        "\n",
        "\n",
        "#**LIST [   ]** \n",
        "- mutable 수정가능하다.\n",
        "- indexing / slicing 이 가능하다.\n",
        "- 파이썬에서 가장 많이 사용된다."
      ],
      "metadata": {
        "id": "OdM9ZNcw5HfL"
      }
    },
    {
      "cell_type": "code",
      "source": [
        "# 리스트 작성\n",
        "\n",
        "emp1 = [ ]\n",
        "odd2 = [1,3,5,7,9]\n",
        "str3 = [\"하나\",\"둘\",\"삼\"]\n",
        "mix4 = [1,2,\"삼\"] # 숫자와 문자의 혼합이 가능\n",
        "\n",
        "print(odd2)\n",
        "print(emp1)\n",
        "print(str3)\n",
        "print(mix4)\n",
        "\n",
        "# 리스트에서 인덱싱 indexing\n",
        "\n",
        "alist = [10,20,30,40,50]\n",
        "\n",
        "print(alist[0]) # python에서의 인덱싱은 0부터 시작\n",
        "print(alist[0] + alist[1])\n",
        "print((alist[0]+alist[1]+alist[2]+alist[3]+alist[4])/5)\n"
      ],
      "metadata": {
        "colab": {
          "base_uri": "https://localhost:8080/"
        },
        "id": "V7w7qtp-TZsL",
        "outputId": "ba720248-7c29-424f-a035-dd0655ad1646"
      },
      "execution_count": null,
      "outputs": [
        {
          "output_type": "stream",
          "name": "stdout",
          "text": [
            "[1, 3, 5, 7, 9]\n",
            "[]\n",
            "['하나', '둘', '삼']\n",
            "[1, 2, '삼']\n",
            "10\n",
            "30\n",
            "30.0\n"
          ]
        }
      ]
    },
    {
      "cell_type": "code",
      "source": [
        "# 슬라이싱 slicing  하나씩 추출하는 인덱싱과는 달리 여러개를 추출한다.\n",
        "\n",
        "blist = \"12345\"\n",
        "\n",
        "blist[0:2] # : 0부터 2미만\n",
        "blist[:3]  # 시작을 생략하면 처음부터 3미만 까지\n",
        "blist[0:]  # 마지막을 생략하면 마지막까지\n",
        "\n",
        "print(blist[:4])\n",
        "\n",
        "# 리스트에서의 연산\n",
        "\n",
        "# 리스트 더하기 (리스트들의 연결된 합으로 나타난다.)\n",
        "\n",
        "alist = [1,2,3,4,5]\n",
        "blist = [6,7,8,9,10]\n",
        "\n",
        "print(alist + blist)\n",
        "\n",
        "# 리스트 곱하기 (리스트의 반복으로 나온다.)\n",
        "\n",
        "print(alist * 3)\n",
        "\n",
        "# 리스트 갯수구하기\n",
        "\n",
        "print(len(blist))"
      ],
      "metadata": {
        "colab": {
          "base_uri": "https://localhost:8080/"
        },
        "id": "8RpEOMf7WSNS",
        "outputId": "196f323e-7f89-491b-8ec3-4bb123696c01"
      },
      "execution_count": null,
      "outputs": [
        {
          "output_type": "stream",
          "name": "stdout",
          "text": [
            "1234\n",
            "[1, 2, 3, 4, 5, 6, 7, 8, 9, 10]\n",
            "[1, 2, 3, 4, 5, 1, 2, 3, 4, 5, 1, 2, 3, 4, 5]\n",
            "5\n"
          ]
        }
      ]
    },
    {
      "cell_type": "code",
      "source": [
        "# 리스트의 수정 mutable\n",
        "\n",
        "alist = [1,2,3,4,5]\n",
        "alist[2] = 0\n",
        "print(alist)\n",
        "\n",
        "# 리스트의 삭제\n",
        "\n",
        "del alist[2]\n",
        "print(alist)\n"
      ],
      "metadata": {
        "colab": {
          "base_uri": "https://localhost:8080/"
        },
        "id": "UUhn42WicZtL",
        "outputId": "43ccf01a-66ce-429c-c1ef-4f7db6d34cfd"
      },
      "execution_count": null,
      "outputs": [
        {
          "output_type": "stream",
          "name": "stdout",
          "text": [
            "[1, 2, 0, 4, 5]\n",
            "[1, 2, 4, 5]\n"
          ]
        }
      ]
    },
    {
      "cell_type": "code",
      "source": [
        "# 리스트에서 많이 사용되는 함수들 \n",
        "\n",
        "# append - 리스트에서 요소를 추가하는 기능(마지막에 추가)\n",
        "\n",
        "alist = [1,2,3,4,5]\n",
        "alist.append(6)\n",
        "print(\"기존 리스트에서 요소를 추가한 결과는\",alist,\"입니다.\")\n",
        "\n",
        "# sort - 리스트에서 요소들을 정렬하는 기능\n",
        "\n",
        "blist = [2,4,3,5,1]\n",
        "blist.sort()\n",
        "print(\"리스트의 요소들을 정렬하면\",blist,\"입니다.\")\n",
        "\n",
        "# reverse - 리스트에서 요소들을 그대로 좌우반전하는 기능\n",
        "\n",
        "clist = [1,2,3]\n",
        "clist.reverse()\n",
        "print(\"리스트의 순서를 반전 하면\",clist,\"입니다.\")\n",
        "\n",
        "# index - 리스트에서 특정 값의 위치를 반환하는 기능\n",
        "\n",
        "dlist = [1,2,3,4,5]\n",
        "print(\"숫자 2의 인덱스 값은\",dlist.index(2),\"입니다.\")\n",
        "\n",
        "# insert - 리스트의 특정 위치에 요소를 추가하는 기능\n",
        "\n",
        "elist = [1,2,3,4,5]\n",
        "elist.insert(0,0) # (특정 위치 값, 넣을 값)\n",
        "print(elist)\n",
        "\n",
        "# remove - 리스트에서 요소를 삭제하는 기능\n",
        "\n",
        "flist = [1,2,3,4,5,4]\n",
        "flist.remove(4) # 삭제 할 값을 입력, 같은 값이 중복될 경우 처음 등장하는 값만 삭제한다.\n",
        "print(flist)\n",
        "\n",
        "# pop - 리스트에서 마지막 요소를 제거하는 용도로 주로 쓰이지만 특정 위치로도 삭제\n",
        "\n",
        "glist = [1,2,3,4,5]\n",
        "glist.pop()\n",
        "glist.pop() # 끝의 두 개 삭제\n",
        "print(glist)\n",
        "\n",
        "glist = [1,2,3,4,5]\n",
        "glist.pop(0)\n",
        "glist.pop(0) # 앞의 두 개 삭제\n",
        "print(glist)\n",
        "\n",
        "# count - 리스트에서 요소의 개수 세기 기능 \n",
        "\n",
        "jlist = [1,2,3,1]\n",
        "jlist.count(1) # 1이 몇개 있는지 \n",
        "\n",
        "# extend - 리스트의 확장. 기존 리스트에 다른 리스트를 더하여 하나의 리스트로 만든다.\n",
        "\n",
        "a = [1,2,3]\n",
        "a.extend([4,5])\n",
        "print(a)\n"
      ],
      "metadata": {
        "colab": {
          "base_uri": "https://localhost:8080/"
        },
        "id": "GpuIfoVwdaBk",
        "outputId": "d15ab2c1-9e90-4335-9cae-94f3a9abdfe8"
      },
      "execution_count": null,
      "outputs": [
        {
          "output_type": "stream",
          "name": "stdout",
          "text": [
            "기존 리스트에서 요소를 추가한 결과는 [1, 2, 3, 4, 5, 6] 입니다.\n",
            "리스트의 요소들을 정렬하면 [1, 2, 3, 4, 5] 입니다.\n",
            "리스트의 순서를 반전 하면 [3, 2, 1] 입니다.\n",
            "숫자 2의 인덱스 값은 1 입니다.\n",
            "[0, 1, 2, 3, 4, 5]\n",
            "[1, 2, 3, 5, 4]\n",
            "[1, 2, 3]\n",
            "[3, 4, 5]\n",
            "[1, 2, 3, 4, 5]\n"
          ]
        }
      ]
    },
    {
      "cell_type": "code",
      "source": [
        "#quiz 1\n",
        "\n",
        "a = [\"자백\",\"리멤버\",\"블랙아담\"]\n",
        "print(\"오늘자 영화 순위는\",a,\"입니다.\")"
      ],
      "metadata": {
        "colab": {
          "base_uri": "https://localhost:8080/"
        },
        "id": "3Vn6EK3ml7H8",
        "outputId": "29e2b65e-8c7c-4f3c-aad0-2267da4a1d1e"
      },
      "execution_count": null,
      "outputs": [
        {
          "output_type": "stream",
          "name": "stdout",
          "text": [
            "오늘자 영화 순위는 ['자백', '리멤버', '블랙아담'] 입니다.\n"
          ]
        }
      ]
    },
    {
      "cell_type": "markdown",
      "source": [
        "#**Tuple (   )** \n",
        "- List와 거의 동일하지만 immutable, 즉 한 번 생성하면 수정도 삭제도 불가하다."
      ],
      "metadata": {
        "id": "1DIC8lCynu_Y"
      }
    },
    {
      "cell_type": "code",
      "source": [
        "tuple1 = ()\n",
        "tuple2 = (1,)            # 원소가 하나여도 쉼표를 넣는다.\n",
        "tuple3 = (1,2,3)\n",
        "tuple4 = 1,2,3           # 튜플은 괄호를 생략 가능하다.\n",
        "tuple5 = (1,2,3,(4,5,6)) # 이중도 가능(하나로 인식)"
      ],
      "metadata": {
        "id": "QIiqMbpgnR5V"
      },
      "execution_count": null,
      "outputs": []
    },
    {
      "cell_type": "code",
      "source": [
        "tuple1 = (1,2,3,4,5)\n",
        "# del tuple1(0)  튜플에서는 삭제가 불가하다.\n",
        "# tuple1[0] = 0  튜플에서는 변경도 불가하다."
      ],
      "metadata": {
        "id": "B-cDwsupoS2s"
      },
      "execution_count": null,
      "outputs": []
    },
    {
      "cell_type": "code",
      "source": [
        "# 튜플에서의 indexing\n",
        "tuple1 = (1,2,3,4,5)\n",
        "tuple1[-1]       # -1은 리스트와 튜플에서 마지막 인덱스 번호"
      ],
      "metadata": {
        "colab": {
          "base_uri": "https://localhost:8080/"
        },
        "id": "Mm7cDTCOimaV",
        "outputId": "6e6468fa-8b40-439b-b229-29c321079d57"
      },
      "execution_count": null,
      "outputs": [
        {
          "output_type": "stream",
          "name": "stdout",
          "text": [
            "5\n"
          ]
        }
      ]
    },
    {
      "cell_type": "code",
      "source": [
        "# 튜플에서의 slicing\n",
        "tuple2 = (1,2,3,4,5)\n",
        "tuple2[:3]       # 첫번째 요소 이상 네번째 요소 미만"
      ],
      "metadata": {
        "colab": {
          "base_uri": "https://localhost:8080/"
        },
        "id": "DjxOKY4gqAG9",
        "outputId": "4d2ce3f0-61ac-47ef-a776-58e0aa07fd13"
      },
      "execution_count": null,
      "outputs": [
        {
          "output_type": "execute_result",
          "data": {
            "text/plain": [
              "(1, 2, 3)"
            ]
          },
          "metadata": {},
          "execution_count": 125
        }
      ]
    },
    {
      "cell_type": "code",
      "source": [
        "# 튜플의 요소 갯수\n",
        "tuple3 = (1,2,3,4,5)\n",
        "print(len(tuple))"
      ],
      "metadata": {
        "colab": {
          "base_uri": "https://localhost:8080/"
        },
        "id": "X8BlXBNzqA78",
        "outputId": "f7ee17f8-9140-432a-d3d1-2cc83cf72758"
      },
      "execution_count": null,
      "outputs": [
        {
          "output_type": "stream",
          "name": "stdout",
          "text": [
            "5\n"
          ]
        }
      ]
    },
    {
      "cell_type": "markdown",
      "source": [
        "#**Dic {   }** \n",
        "- mutable 수정가능하다.\n",
        "- indexing / slicing 이 불가능하다.\n",
        "- 이름 그대로 dictionary 사전 처럼 키값:밸류값의 쌍으로 데이터가 저장되는 자료형\n",
        "- 순서가 없으므로 키값으로 밸류값을 빼낸다. \n",
        "- 속도가 빠르다.\n"
      ],
      "metadata": {
        "id": "8T8NlQqTqfpF"
      }
    },
    {
      "cell_type": "code",
      "source": [
        "adict = {5:'a',3:'b',2:'c'}\n",
        "print(adict[5])   # 자리값이 아닌 키값 \"5\"를 찾아 출력 \n",
        "\n",
        "adict[9] = 'd'    # 수정(추가) 가능\n",
        "print(adict)\n",
        "\n",
        "del adict[3]\n",
        "print(adict)      # 삭제 가능, 키와 밸류값이 함께 삭제됨\n",
        "\n",
        "#adict[0]         # indexing이 아닌 0이라는 키값을 찾음\n"
      ],
      "metadata": {
        "colab": {
          "base_uri": "https://localhost:8080/"
        },
        "id": "WnWxZ7jcqx_F",
        "outputId": "d3701a11-0891-4280-efb5-df9c93a494a0"
      },
      "execution_count": null,
      "outputs": [
        {
          "output_type": "stream",
          "name": "stdout",
          "text": [
            "a\n",
            "{5: 'a', 3: 'b', 2: 'c', 9: 'd'}\n",
            "{5: 'a', 2: 'c', 9: 'd'}\n"
          ]
        }
      ]
    },
    {
      "cell_type": "code",
      "source": [
        "# keys - 딕셔너리에서 키값만 추출하는 기능\n",
        "\n",
        "adict = {5:'a',3:'b',2:'c'}\n",
        "print(adict.keys())\n",
        "\n",
        "# values - 딕셔너리에서 밸류값만 추출하는 기능\n",
        "\n",
        "print(adict.values())\n",
        "\n",
        "# items 딕셔너리에서 키값과 밸류값을 쌍으로 추출하는 기능\n",
        "\n",
        "print(adict.items())\n",
        "\n",
        "# in 딕셔너리에 키값이 존재하는지 확인 하는 기능\n",
        "\n",
        "print(1 in adict)\n",
        "print(5 in adict)"
      ],
      "metadata": {
        "colab": {
          "base_uri": "https://localhost:8080/"
        },
        "id": "VAbMrCxJsSWV",
        "outputId": "69dfb276-0618-44a9-add7-179009b3ffca"
      },
      "execution_count": null,
      "outputs": [
        {
          "output_type": "stream",
          "name": "stdout",
          "text": [
            "dict_keys([5, 3, 2])\n",
            "dict_values(['a', 'b', 'c'])\n",
            "dict_items([(5, 'a'), (3, 'b'), (2, 'c')])\n",
            "False\n",
            "True\n"
          ]
        }
      ]
    },
    {
      "cell_type": "markdown",
      "source": [
        "#**Set {   }** \n",
        "- mutable 수정가능하다.\n",
        "- indexing / slicing 이 불가능하다. (unordered 순서가 없다)\n",
        "- 중복을 허용하지 않는다."
      ],
      "metadata": {
        "id": "SFowVKaDtcMl"
      }
    },
    {
      "cell_type": "code",
      "source": [
        "s1 = {1,2,3,4,1,2}  # 중복값을 생략한다.\n",
        "print(s1)\n",
        "\n",
        "print(type(s1))     # type은 타입형을 알려준다."
      ],
      "metadata": {
        "colab": {
          "base_uri": "https://localhost:8080/"
        },
        "id": "50-Ts-oZuCSc",
        "outputId": "bba851cb-6517-49cc-88c4-0ec2682a597d"
      },
      "execution_count": null,
      "outputs": [
        {
          "output_type": "stream",
          "name": "stdout",
          "text": [
            "{1, 2, 3, 4}\n",
            "<class 'set'>\n"
          ]
        }
      ]
    },
    {
      "cell_type": "markdown",
      "source": [
        "# Boolean \n",
        "- True 혹은 False\n",
        "\n"
      ],
      "metadata": {
        "id": "DkeYHglHuv_0"
      }
    },
    {
      "cell_type": "code",
      "source": [
        "# 숙제용 문법\n",
        "\n",
        "a = \"hi\"\n",
        "print(a)\n",
        "\n",
        "a = input(\"출력할 내용을 입력하세요\")\n",
        "print(\"입력하신 내용은\",a,\"입니다.\")"
      ],
      "metadata": {
        "colab": {
          "base_uri": "https://localhost:8080/"
        },
        "id": "iHThfDne0Ly2",
        "outputId": "89d7a214-51f9-4200-9e99-269a0b1e7f89"
      },
      "execution_count": null,
      "outputs": [
        {
          "output_type": "stream",
          "name": "stdout",
          "text": [
            "hi\n",
            "출력할 내용을 입력하세요 반갑습니다.\n",
            "입력하신 내용은  반갑습니다. 입니다.\n"
          ]
        }
      ]
    },
    {
      "cell_type": "code",
      "source": [],
      "metadata": {
        "id": "3b80M87_0Pgr"
      },
      "execution_count": null,
      "outputs": []
    }
  ]
}