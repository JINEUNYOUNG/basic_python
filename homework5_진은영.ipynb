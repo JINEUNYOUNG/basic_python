{
  "nbformat": 4,
  "nbformat_minor": 0,
  "metadata": {
    "colab": {
      "provenance": [],
      "collapsed_sections": []
    },
    "kernelspec": {
      "name": "python3",
      "display_name": "Python 3"
    },
    "language_info": {
      "name": "python"
    }
  },
  "cells": [
    {
      "cell_type": "code",
      "execution_count": null,
      "metadata": {
        "colab": {
          "base_uri": "https://localhost:8080/"
        },
        "id": "lJIHFjS6TEvC",
        "outputId": "5b9f0bab-8212-460c-88d5-c82173e11149"
      },
      "outputs": [
        {
          "output_type": "stream",
          "name": "stdout",
          "text": [
            "Enter your First Nameeunyoung\n",
            "Hello [eunyoung]\n"
          ]
        }
      ],
      "source": [
        "#001\n",
        "firstname = input(\"Enter your First Name\")\n",
        "print(\"Hello\"+\" [\"+firstname+\"]\")"
      ]
    },
    {
      "cell_type": "code",
      "source": [
        "#002\n",
        "firstname = input(\"Enter your First Name\");surname = input(\"Enter your Surname\")\n",
        "print(\"Hello\"+\" [\"+firstname+surname+\"]\")"
      ],
      "metadata": {
        "colab": {
          "base_uri": "https://localhost:8080/"
        },
        "id": "XgE_sDUVfGIF",
        "outputId": "b816176c-5f8a-4c03-f759-e499ce89fa32"
      },
      "execution_count": null,
      "outputs": [
        {
          "output_type": "stream",
          "name": "stdout",
          "text": [
            "Enter your First NameEunyoung\n",
            "Enter your SurnameJin\n",
            "Hello [EunyoungJin]\n"
          ]
        }
      ]
    },
    {
      "cell_type": "code",
      "source": [
        "#003\n",
        "print(\"What do you call a bear with no teeth?\\nA gummy bear!\")"
      ],
      "metadata": {
        "colab": {
          "base_uri": "https://localhost:8080/"
        },
        "id": "7o1npEyefz9A",
        "outputId": "3cf96fdc-5b66-41a4-d5ee-881239f1cecc"
      },
      "execution_count": null,
      "outputs": [
        {
          "output_type": "stream",
          "name": "stdout",
          "text": [
            "What do you call a bear with no teeth?\n",
            "A gummy bear!\n"
          ]
        }
      ]
    },
    {
      "cell_type": "code",
      "source": [
        "#004\n",
        "number1 = int(input('Enter first value : '))\n",
        "number2 = int(input('Enter second value : '))\n",
        "answer = number1 + number2\n",
        "print(\"The total is [\",answer,\"]\")"
      ],
      "metadata": {
        "colab": {
          "base_uri": "https://localhost:8080/"
        },
        "id": "w3MP8TtngTO4",
        "outputId": "6206938b-95b0-40e7-da9b-f5242445834d"
      },
      "execution_count": null,
      "outputs": [
        {
          "output_type": "stream",
          "name": "stdout",
          "text": [
            "Enter first value : 1\n",
            "Enter second value : 2\n",
            "The total is [ 3 ]\n"
          ]
        }
      ]
    },
    {
      "cell_type": "code",
      "source": [
        "#005\n",
        "number1 = int(input('Enter first value : '))\n",
        "number2 = int(input('Enter second value : '))\n",
        "number3 = int(input('Enter third value : '))\n",
        "answer = number1 + number2 * number3\n",
        "print(\"The total is [\",answer,\"]\")\n"
      ],
      "metadata": {
        "colab": {
          "base_uri": "https://localhost:8080/"
        },
        "id": "BW2mAbwEjdmS",
        "outputId": "ca2f931d-d92f-45ec-cdbf-fa6a46397bf8"
      },
      "execution_count": null,
      "outputs": [
        {
          "output_type": "stream",
          "name": "stdout",
          "text": [
            "Enter first value : 2\n",
            "Enter second value : 3\n",
            "Enter third value : 4\n",
            "The total is [ 14 ]\n"
          ]
        }
      ]
    },
    {
      "cell_type": "code",
      "source": [
        "#006\n",
        "start = int(input(\"How many slices of pizza do you have at first?  : \"))\n",
        "eat = int(input(\"How many slices of pizza do you eat? : \"))\n",
        "now = start - eat\n",
        "print(\"Now, There are\" ,now, \"slices of pizza left\")"
      ],
      "metadata": {
        "colab": {
          "base_uri": "https://localhost:8080/"
        },
        "id": "qJinKk00j4KB",
        "outputId": "58a63fbe-0edb-4484-843b-e38990d18798"
      },
      "execution_count": null,
      "outputs": [
        {
          "output_type": "stream",
          "name": "stdout",
          "text": [
            "How many slices of pizza do you have at first?  : 5\n",
            "How many slices of pizza do you eat? : 2\n",
            "Now, There are 3 slices of pizza left\n"
          ]
        }
      ]
    },
    {
      "cell_type": "code",
      "source": [
        "#007\n",
        "name = input(\"What's your name? : \")\n",
        "age = int(input(\"How old are you? : \"))\n",
        "newage = age + 1\n",
        "print(\"[\",name,\"] next birthday you will be [\",newage,\"]\")"
      ],
      "metadata": {
        "colab": {
          "base_uri": "https://localhost:8080/"
        },
        "id": "FwbB0wr_k3Wb",
        "outputId": "0b37994c-a141-43e4-c631-d7c3164b630d"
      },
      "execution_count": null,
      "outputs": [
        {
          "output_type": "stream",
          "name": "stdout",
          "text": [
            "What's your name? : jin\n",
            "How old are you? : 30\n",
            "[ jin ] next birthday you will be [ 31 ]\n"
          ]
        }
      ]
    },
    {
      "cell_type": "code",
      "source": [
        "#008\n",
        "price = int(input(\"Total price of the bill : \"))\n",
        "people = int(input(\"How many diners you are : \"))\n",
        "a = price / people\n",
        "print(\"Each person must pay [\",a,\"]\")"
      ],
      "metadata": {
        "colab": {
          "base_uri": "https://localhost:8080/"
        },
        "id": "WDuBePaNmTxr",
        "outputId": "4a07f5e5-695a-4340-beaf-8df57d9191c7"
      },
      "execution_count": null,
      "outputs": [
        {
          "output_type": "stream",
          "name": "stdout",
          "text": [
            "Total price of the bill : 30000\n",
            "How many diners you are : 5\n",
            "Each person must pay [ 6000.0 ]\n"
          ]
        }
      ]
    },
    {
      "cell_type": "code",
      "source": [
        "#009\n",
        "days = int(input(\"Enter number of days\"))\n",
        "hours = days * 24\n",
        "minutes = hours * 60\n",
        "print(days,\"days is\",hours,\"hours or\",minutes,\"minutes\")"
      ],
      "metadata": {
        "colab": {
          "base_uri": "https://localhost:8080/"
        },
        "id": "TyTV2ZZeoVRa",
        "outputId": "09fa0917-6b54-4bc3-dd23-8d7fb8791c92"
      },
      "execution_count": null,
      "outputs": [
        {
          "output_type": "stream",
          "name": "stdout",
          "text": [
            "Enter number of days10\n",
            "10 days is 240 hours or 14400 minutes\n"
          ]
        }
      ]
    },
    {
      "cell_type": "code",
      "source": [
        "#010\n",
        "weight = int(input(\"Enter your weight in kilograms\"))\n",
        "pound = weight * 2204\n",
        "print(\"Your weight is [\",pound,\"] pounds\")"
      ],
      "metadata": {
        "colab": {
          "base_uri": "https://localhost:8080/"
        },
        "id": "ymj0q95x7XeB",
        "outputId": "ee9f8af0-e5a7-493a-edf8-e30726befd2e"
      },
      "execution_count": null,
      "outputs": [
        {
          "output_type": "stream",
          "name": "stdout",
          "text": [
            "Enter your weight in kilograms60\n",
            "Your weight is [ 132240 ] pounds\n"
          ]
        }
      ]
    },
    {
      "cell_type": "code",
      "source": [
        "#011\n",
        "number1 = int(input(\"Enter a number over 100 at random\"))\n",
        "number2 = int(input(\"Enter a number under 10 at random\"))\n",
        "times = int(number1 / number2)\n",
        "print(\"Small number is \", times,\"times smaller than bigger one\")"
      ],
      "metadata": {
        "colab": {
          "base_uri": "https://localhost:8080/"
        },
        "id": "FHs5YEX68Uur",
        "outputId": "d0b911e0-0804-4bf4-cbab-e4f53dc2a1be"
      },
      "execution_count": null,
      "outputs": [
        {
          "output_type": "stream",
          "name": "stdout",
          "text": [
            "Enter a number over 100 at random120\n",
            "Enter a number under 10 at random7\n",
            "Small number is  17 times smaller than bigger one\n"
          ]
        }
      ]
    }
  ]
}