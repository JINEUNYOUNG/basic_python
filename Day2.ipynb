{
  "nbformat": 4,
  "nbformat_minor": 0,
  "metadata": {
    "colab": {
      "provenance": []
    },
    "kernelspec": {
      "name": "python3",
      "display_name": "Python 3"
    },
    "language_info": {
      "name": "python"
    }
  },
  "cells": [
    {
      "cell_type": "markdown",
      "source": [
        "# 제어문\n",
        "# **if 문**\n",
        "\n",
        " 조건을 판단하여 참일 경우와 거짓일 경우의 실행이 달라지게 흐름을 구성할 수 있다.\n",
        "\n",
        "```\n",
        "if 조건식:\n",
        "    조건이 참일 경우\n",
        "else: \n",
        "    조건이 거짓일 경우\n",
        "```\n",
        "\n",
        "\n",
        "\n",
        "ex) 만약에 가진 돈이 있으면 택시를 타고 만약 없으면 걸어가는 상황을 코드로  표현해보자\n",
        "\n",
        "\n",
        "```\n",
        "if 돈이 있으면:\n",
        "    print(\"택시를 타자\")\n",
        "else\n",
        "    print(\"걸어 가자\")\n",
        "```\n",
        "\n"
      ],
      "metadata": {
        "id": "MJu0pUINZ4VV"
      }
    },
    {
      "cell_type": "markdown",
      "source": [
        "![제목 없는 다이어그램.drawio.png](data:image/png;base64,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)"
      ],
      "metadata": {
        "id": "Yn3wmu8cif9p"
      }
    },
    {
      "cell_type": "markdown",
      "source": [
        "#반복문\n",
        "#**while 문**\n",
        "while로 구현할 수 있는 모든 반복문은 for로도 구현할 수 있고 그 반대의 경우도 100% 가능하다. \n",
        "\n",
        "- while은 반복 횟수가 정확하지 않을 경우 주로 사용 된다.\n",
        "\n",
        "```\n",
        "while 조건:\n",
        "  조건을 만족할 경우 수행할 구문\n",
        "  ```"
      ],
      "metadata": {
        "id": "TRR5wsa4ltnD"
      }
    },
    {
      "cell_type": "code",
      "source": [
        "no = 10\n",
        "\n",
        "while no >= 0:\n",
        "    print(no)\n",
        "    no = no - 1"
      ],
      "metadata": {
        "colab": {
          "base_uri": "https://localhost:8080/"
        },
        "id": "BPjqtzoE1cOw",
        "outputId": "e6b4be84-ec5e-44fa-afa5-1cfc0a60e9fe"
      },
      "execution_count": null,
      "outputs": [
        {
          "output_type": "stream",
          "name": "stdout",
          "text": [
            "10\n",
            "9\n",
            "8\n",
            "7\n",
            "6\n",
            "5\n",
            "4\n",
            "3\n",
            "2\n",
            "1\n",
            "0\n"
          ]
        }
      ]
    },
    {
      "cell_type": "markdown",
      "source": [
        "아래와 같은 경우 5 종료를 선택 할 때 까지 반복 횟수가 정확하지 않다. 따라서 while문이 더 어울린다."
      ],
      "metadata": {
        "id": "3expi2DH2q8Y"
      }
    },
    {
      "cell_type": "code",
      "source": [
        "prompt = \"1. 덧셈 / 2. 뺄셈 / 3. 곱셈 / 4. 나눗셈 / 5. 종료\"\n",
        "no = 0\n",
        "\n",
        "while no <= 4:\n",
        "    print(prompt)\n",
        "    no = int(input())"
      ],
      "metadata": {
        "id": "9D2MIKCL2c3B"
      },
      "execution_count": null,
      "outputs": []
    },
    {
      "cell_type": "markdown",
      "source": [
        "while 문의 경우에는 반복 횟수가 정확하지 않을 경우가 많기 때문에 조건에서 뿐만이 아니라 *중간에 반복을 종료* 시키는 방법도 필요하다."
      ],
      "metadata": {
        "id": "mHYZXvrf3BNg"
      }
    },
    {
      "cell_type": "code",
      "source": [
        "no = 0\n",
        "\n",
        "while no <= 10:\n",
        "    print(no)\n",
        "    no = no + 1"
      ],
      "metadata": {
        "colab": {
          "base_uri": "https://localhost:8080/"
        },
        "id": "I7RHevUK3P00",
        "outputId": "0ea9c7af-7c2d-4ed6-cc0d-95ad8d73ce6a"
      },
      "execution_count": null,
      "outputs": [
        {
          "output_type": "stream",
          "name": "stdout",
          "text": [
            "0\n",
            "1\n",
            "2\n",
            "3\n",
            "4\n",
            "5\n",
            "6\n",
            "7\n",
            "8\n",
            "9\n",
            "10\n"
          ]
        }
      ]
    },
    {
      "cell_type": "code",
      "source": [
        "no = 0\n",
        "while True:\n",
        "    print(no)\n",
        "    no = no + 1\n",
        "\n",
        "    if no > 10:\n",
        "        break"
      ],
      "metadata": {
        "colab": {
          "base_uri": "https://localhost:8080/"
        },
        "id": "KdL_mgxQ3p1x",
        "outputId": "836ae29b-9a8f-40b7-8730-c055a083324e"
      },
      "execution_count": null,
      "outputs": [
        {
          "output_type": "stream",
          "name": "stdout",
          "text": [
            "0\n",
            "1\n",
            "2\n",
            "3\n",
            "4\n",
            "5\n",
            "6\n",
            "7\n",
            "8\n",
            "9\n",
            "10\n"
          ]
        }
      ]
    },
    {
      "cell_type": "code",
      "source": [
        "no = 1\n",
        "sum = 0\n",
        "\n",
        "while True:\n",
        "    if no % 3 == 0:\n",
        "       sum = sum + no\n",
        "\n",
        "    no = no + 1\n",
        "    \n",
        "    if no == 100:  \n",
        "       break\n",
        "print(sum)"
      ],
      "metadata": {
        "colab": {
          "base_uri": "https://localhost:8080/"
        },
        "id": "wPLTUO68QnFq",
        "outputId": "6def7791-5677-4fc9-8526-8bcb9150b774"
      },
      "execution_count": null,
      "outputs": [
        {
          "output_type": "stream",
          "name": "stdout",
          "text": [
            "1683\n"
          ]
        }
      ]
    },
    {
      "cell_type": "code",
      "source": [
        "no = 1\n",
        "sum = 0\n",
        "\n",
        "while no <= 100:\n",
        "   if no % 3 == 0:\n",
        "      sum = sum + no\n",
        "\n",
        "   no = no + 1 \n",
        "\n",
        "print(sum)"
      ],
      "metadata": {
        "colab": {
          "base_uri": "https://localhost:8080/"
        },
        "id": "eJ_2nilIQsTS",
        "outputId": "9b988270-109d-4f10-def9-0a7b84239d45"
      },
      "execution_count": null,
      "outputs": [
        {
          "output_type": "stream",
          "name": "stdout",
          "text": [
            "1683\n"
          ]
        }
      ]
    },
    {
      "cell_type": "markdown",
      "source": [
        "#반복문\n",
        "#**for 문**\n",
        "while로 구현할 수 있는 모든 반복문은 for로도 구현할 수 있고 그 반대의 경우도 100% 가능하다. \n",
        "\n",
        "- for문은 반복횟수가 명확할 때 주로 사용된다.\n",
        "\n",
        "```\n",
        "for 변수명 in 리스트():\n",
        "  수행할 구문\n",
        "  ```"
      ],
      "metadata": {
        "id": "HQevcs4DSQYU"
      }
    },
    {
      "cell_type": "code",
      "source": [
        "for i in [1,2,3,4,5,6,7,8,9]:\n",
        "    print(i)"
      ],
      "metadata": {
        "colab": {
          "base_uri": "https://localhost:8080/"
        },
        "id": "6t4g0ra7SyLM",
        "outputId": "50dc4673-752d-4add-e517-64df515749c7"
      },
      "execution_count": null,
      "outputs": [
        {
          "output_type": "stream",
          "name": "stdout",
          "text": [
            "1\n",
            "2\n",
            "3\n",
            "4\n",
            "5\n",
            "6\n",
            "7\n",
            "8\n",
            "9\n"
          ]
        }
      ]
    },
    {
      "cell_type": "code",
      "source": [
        "math = [80,90,70,70,100]\n",
        "j = 1\n",
        "for i in math:\n",
        "    \n",
        "    if i >= 90:    \n",
        "        print(j,\"번째 학생은 합격입니다.\")\n",
        "    else:\n",
        "        print(j,\"번째 학생은 불합격입니다.\")\n",
        "    j += 1 "
      ],
      "metadata": {
        "colab": {
          "base_uri": "https://localhost:8080/"
        },
        "id": "zq6FbCbnTNek",
        "outputId": "36554814-b29e-4961-d42b-3ce2a18633a5"
      },
      "execution_count": null,
      "outputs": [
        {
          "output_type": "stream",
          "name": "stdout",
          "text": [
            "1 번째 학생은 불합격입니다.\n",
            "2 번째 학생은 합격입니다.\n",
            "3 번째 학생은 불합격입니다.\n",
            "4 번째 학생은 불합격입니다.\n",
            "5 번째 학생은 합격입니다.\n"
          ]
        }
      ]
    },
    {
      "cell_type": "code",
      "source": [
        "for i in [1,2,3,4,5,6,7,8,9,10]:\n",
        "    print(i)"
      ],
      "metadata": {
        "colab": {
          "base_uri": "https://localhost:8080/"
        },
        "id": "Sj5DQ6K-Um19",
        "outputId": "aa09112c-d228-427f-8b01-3936cc545220"
      },
      "execution_count": null,
      "outputs": [
        {
          "output_type": "stream",
          "name": "stdout",
          "text": [
            "1\n",
            "2\n",
            "3\n",
            "4\n",
            "5\n",
            "6\n",
            "7\n",
            "8\n",
            "9\n",
            "10\n"
          ]
        }
      ]
    },
    {
      "cell_type": "code",
      "source": [
        "for i in [1,2,3,4,5,6,7,8,9,10]:\n",
        "    if i % 2 == 0:\n",
        "       print(i)"
      ],
      "metadata": {
        "colab": {
          "base_uri": "https://localhost:8080/"
        },
        "id": "r-RqFVxaUy_D",
        "outputId": "e72a09dd-d82b-42e0-ebdf-fbb6668e853b"
      },
      "execution_count": null,
      "outputs": [
        {
          "output_type": "stream",
          "name": "stdout",
          "text": [
            "2\n",
            "4\n",
            "6\n",
            "8\n",
            "10\n"
          ]
        }
      ]
    },
    {
      "cell_type": "code",
      "source": [
        "for i in [1,2,3,4,5,6,7,8,9,10]:\n",
        "    if i % 2 != 0:\n",
        "       continue   # 아니면 지나가라. (무시)\n",
        "\n",
        "    print(i)"
      ],
      "metadata": {
        "colab": {
          "base_uri": "https://localhost:8080/"
        },
        "id": "TJfI0p_AU_E0",
        "outputId": "7c0bce1a-35b6-47ef-b9f7-4ae0452136ac"
      },
      "execution_count": null,
      "outputs": [
        {
          "output_type": "stream",
          "name": "stdout",
          "text": [
            "2\n",
            "4\n",
            "6\n",
            "8\n",
            "10\n"
          ]
        }
      ]
    },
    {
      "cell_type": "markdown",
      "source": [
        "* Range 함수   \n",
        "\n",
        "숫자를 자동으로 생성해준다.\n",
        "\n",
        " for문과 함께 사용하는 경우가 많다."
      ],
      "metadata": {
        "id": "2FRtfdExWA1U"
      }
    },
    {
      "cell_type": "code",
      "source": [
        "# range 함수 \n",
        "\n",
        "for i in range(1,11):   #range(이상,미만)\n",
        "    print(i)"
      ],
      "metadata": {
        "colab": {
          "base_uri": "https://localhost:8080/"
        },
        "id": "pbygwZCnVm4V",
        "outputId": "6d4590b5-5857-4567-e2d7-18d0da5f61e2"
      },
      "execution_count": null,
      "outputs": [
        {
          "output_type": "stream",
          "name": "stdout",
          "text": [
            "1\n",
            "2\n",
            "3\n",
            "4\n",
            "5\n",
            "6\n",
            "7\n",
            "8\n",
            "9\n",
            "10\n"
          ]
        }
      ]
    },
    {
      "cell_type": "code",
      "source": [
        "# for문으로 구구단 출력하기\n",
        "\n",
        "for i in range(2,10):          #i는단을표현\n",
        "    for j in range(1,10):      #j는곱을표현\n",
        "         print(i, \"*\", j, \"=\" ,i*j, end='\\t')\n",
        "    print()                    #단이 바뀔때 줄을 바꿔준다."
      ],
      "metadata": {
        "colab": {
          "base_uri": "https://localhost:8080/"
        },
        "id": "7hwv3tX_Wb42",
        "outputId": "f26e2c97-db61-465f-c83b-639f8a09e04f"
      },
      "execution_count": null,
      "outputs": [
        {
          "output_type": "stream",
          "name": "stdout",
          "text": [
            "2 * 1 = 2\t2 * 2 = 4\t2 * 3 = 6\t2 * 4 = 8\t2 * 5 = 10\t2 * 6 = 12\t2 * 7 = 14\t2 * 8 = 16\t2 * 9 = 18\t\n",
            "3 * 1 = 3\t3 * 2 = 6\t3 * 3 = 9\t3 * 4 = 12\t3 * 5 = 15\t3 * 6 = 18\t3 * 7 = 21\t3 * 8 = 24\t3 * 9 = 27\t\n",
            "4 * 1 = 4\t4 * 2 = 8\t4 * 3 = 12\t4 * 4 = 16\t4 * 5 = 20\t4 * 6 = 24\t4 * 7 = 28\t4 * 8 = 32\t4 * 9 = 36\t\n",
            "5 * 1 = 5\t5 * 2 = 10\t5 * 3 = 15\t5 * 4 = 20\t5 * 5 = 25\t5 * 6 = 30\t5 * 7 = 35\t5 * 8 = 40\t5 * 9 = 45\t\n",
            "6 * 1 = 6\t6 * 2 = 12\t6 * 3 = 18\t6 * 4 = 24\t6 * 5 = 30\t6 * 6 = 36\t6 * 7 = 42\t6 * 8 = 48\t6 * 9 = 54\t\n",
            "7 * 1 = 7\t7 * 2 = 14\t7 * 3 = 21\t7 * 4 = 28\t7 * 5 = 35\t7 * 6 = 42\t7 * 7 = 49\t7 * 8 = 56\t7 * 9 = 63\t\n",
            "8 * 1 = 8\t8 * 2 = 16\t8 * 3 = 24\t8 * 4 = 32\t8 * 5 = 40\t8 * 6 = 48\t8 * 7 = 56\t8 * 8 = 64\t8 * 9 = 72\t\n",
            "9 * 1 = 9\t9 * 2 = 18\t9 * 3 = 27\t9 * 4 = 36\t9 * 5 = 45\t9 * 6 = 54\t9 * 7 = 63\t9 * 8 = 72\t9 * 9 = 81\t\n"
          ]
        }
      ]
    },
    {
      "cell_type": "code",
      "source": [
        "for j in range(1,10):          \n",
        "    for i in range(2 ,10):      \n",
        "         print(i, \"*\", j, \"=\" ,i*j, end='\\t')\n",
        "    print()                   "
      ],
      "metadata": {
        "colab": {
          "base_uri": "https://localhost:8080/"
        },
        "id": "e-n9zhiIYUlH",
        "outputId": "6cd237a2-d37a-46ea-ea1c-4fb1c15b1c72"
      },
      "execution_count": null,
      "outputs": [
        {
          "output_type": "stream",
          "name": "stdout",
          "text": [
            "2 * 1 = 2\t3 * 1 = 3\t4 * 1 = 4\t5 * 1 = 5\t6 * 1 = 6\t7 * 1 = 7\t8 * 1 = 8\t9 * 1 = 9\t\n",
            "2 * 2 = 4\t3 * 2 = 6\t4 * 2 = 8\t5 * 2 = 10\t6 * 2 = 12\t7 * 2 = 14\t8 * 2 = 16\t9 * 2 = 18\t\n",
            "2 * 3 = 6\t3 * 3 = 9\t4 * 3 = 12\t5 * 3 = 15\t6 * 3 = 18\t7 * 3 = 21\t8 * 3 = 24\t9 * 3 = 27\t\n",
            "2 * 4 = 8\t3 * 4 = 12\t4 * 4 = 16\t5 * 4 = 20\t6 * 4 = 24\t7 * 4 = 28\t8 * 4 = 32\t9 * 4 = 36\t\n",
            "2 * 5 = 10\t3 * 5 = 15\t4 * 5 = 20\t5 * 5 = 25\t6 * 5 = 30\t7 * 5 = 35\t8 * 5 = 40\t9 * 5 = 45\t\n",
            "2 * 6 = 12\t3 * 6 = 18\t4 * 6 = 24\t5 * 6 = 30\t6 * 6 = 36\t7 * 6 = 42\t8 * 6 = 48\t9 * 6 = 54\t\n",
            "2 * 7 = 14\t3 * 7 = 21\t4 * 7 = 28\t5 * 7 = 35\t6 * 7 = 42\t7 * 7 = 49\t8 * 7 = 56\t9 * 7 = 63\t\n",
            "2 * 8 = 16\t3 * 8 = 24\t4 * 8 = 32\t5 * 8 = 40\t6 * 8 = 48\t7 * 8 = 56\t8 * 8 = 64\t9 * 8 = 72\t\n",
            "2 * 9 = 18\t3 * 9 = 27\t4 * 9 = 36\t5 * 9 = 45\t6 * 9 = 54\t7 * 9 = 63\t8 * 9 = 72\t9 * 9 = 81\t\n"
          ]
        }
      ]
    },
    {
      "cell_type": "code",
      "source": [
        "# range를 사용하여 100이하의 수중 짝수들만의 합계를 구하세요.\n",
        "\n",
        "sum = 0\n",
        "for i in range(0,101,2):\n",
        "   sum += i\n",
        "print(sum)\n"
      ],
      "metadata": {
        "colab": {
          "base_uri": "https://localhost:8080/"
        },
        "id": "p9qJ8lKHblbX",
        "outputId": "655b30a8-4fef-48c8-de98-eee320de8fee"
      },
      "execution_count": null,
      "outputs": [
        {
          "output_type": "stream",
          "name": "stdout",
          "text": [
            "2550\n"
          ]
        }
      ]
    },
    {
      "cell_type": "markdown",
      "source": [
        "* 리스트 축약 / 내포 List Comprehension\n",
        "\n",
        ": 리스트를 좀 더 편리하고 직관적으로 만드는 방법 (python한정)\n"
      ],
      "metadata": {
        "id": "lbw4A8q8eUy4"
      }
    },
    {
      "cell_type": "code",
      "source": [
        "list1 = [1,2,3,4]\n",
        "print(list1)\n",
        "\n",
        "list2 = [num for num in list1]\n",
        "print(list2)\n",
        "\n",
        "list3 = [num*2 for num in list1]                    # list1의 숫자들을 -> *2해서 보여줌\n",
        "print(list3)\n",
        "\n",
        "list4 = [num for num in list1 if num%2==0]          # list1의 숫자들 중 -> 짝수인것을 찾아서 -> 보여줌\n",
        "print(list4)"
      ],
      "metadata": {
        "colab": {
          "base_uri": "https://localhost:8080/"
        },
        "id": "Hq12rTg3eznB",
        "outputId": "f589427d-9e15-4013-b2b7-a3ef389954d7"
      },
      "execution_count": null,
      "outputs": [
        {
          "output_type": "stream",
          "name": "stdout",
          "text": [
            "[1, 2, 3, 4]\n",
            "[1, 2, 3, 4]\n",
            "[2, 4, 6, 8]\n",
            "[2, 4]\n"
          ]
        }
      ]
    },
    {
      "cell_type": "code",
      "source": [
        "no = 70\n",
        "\n",
        "if no >= 70:\n",
        "    print(\"합격입니다!\")\n",
        "else:\n",
        "    print(\"불합격입니다...\")\n",
        "\n",
        "\n",
        "print(\"합격입니다!\" if no >= 80 else \"불합격입니다...\")          # TRUE일때    if ~ else ~   FALSE일때"
      ],
      "metadata": {
        "colab": {
          "base_uri": "https://localhost:8080/"
        },
        "id": "vponB1B3ghEh",
        "outputId": "ee318b0c-724a-4e7a-d1f9-36bd900d1925"
      },
      "execution_count": null,
      "outputs": [
        {
          "output_type": "stream",
          "name": "stdout",
          "text": [
            "합격입니다!\n",
            "불합격입니다...\n"
          ]
        }
      ]
    },
    {
      "cell_type": "code",
      "source": [],
      "metadata": {
        "id": "M78ii6enhunj"
      },
      "execution_count": null,
      "outputs": []
    }
  ]
}